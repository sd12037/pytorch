{
 "cells": [
  {
   "cell_type": "code",
   "execution_count": 28,
   "metadata": {},
   "outputs": [],
   "source": [
    "import torch\n",
    "from torch.utils.data import TensorDataset, DataLoader"
   ]
  },
  {
   "cell_type": "code",
   "execution_count": 29,
   "metadata": {
    "collapsed": true
   },
   "outputs": [],
   "source": [
    "X = torch.randn(512, 28, 5)\n",
    "Y = torch.randn(512)"
   ]
  },
  {
   "cell_type": "code",
   "execution_count": 30,
   "metadata": {},
   "outputs": [],
   "source": [
    "train_set = TensorDataset(X, Y)"
   ]
  },
  {
   "cell_type": "code",
   "execution_count": 31,
   "metadata": {},
   "outputs": [],
   "source": [
    "train_loader = DataLoader(train_set, batch_size=32)"
   ]
  },
  {
   "cell_type": "code",
   "execution_count": 32,
   "metadata": {},
   "outputs": [],
   "source": [
    "train_iter = iter(train_loader)"
   ]
  },
  {
   "cell_type": "code",
   "execution_count": 37,
   "metadata": {},
   "outputs": [
    {
     "name": "stdout",
     "output_type": "stream",
     "text": [
      "\n",
      " 0.7099\n",
      " 1.0668\n",
      " 1.1452\n",
      "-0.2139\n",
      " 0.4779\n",
      " 1.1279\n",
      "-1.0424\n",
      " 1.0553\n",
      "-1.1006\n",
      " 0.6828\n",
      "-0.4734\n",
      "-0.1690\n",
      "-1.2877\n",
      " 0.5029\n",
      " 0.8153\n",
      "-0.8509\n",
      "-0.2241\n",
      "-1.7212\n",
      "-2.1518\n",
      "-0.7039\n",
      " 0.0471\n",
      "-0.4817\n",
      "-0.5003\n",
      "-0.6138\n",
      " 0.0520\n",
      " 1.2040\n",
      "-0.2692\n",
      " 1.6779\n",
      " 1.1263\n",
      "-0.8247\n",
      "-0.1745\n",
      " 1.6615\n",
      "[torch.DoubleTensor of size 32]\n",
      "\n"
     ]
    }
   ],
   "source": [
    "batch_X, batch_Y = train_iter.next()\n",
    "print(batch_Y)"
   ]
  }
 ],
 "metadata": {
  "kernelspec": {
   "display_name": "Python 3",
   "language": "python",
   "name": "python3"
  },
  "language_info": {
   "codemirror_mode": {
    "name": "ipython",
    "version": 3
   },
   "file_extension": ".py",
   "mimetype": "text/x-python",
   "name": "python",
   "nbconvert_exporter": "python",
   "pygments_lexer": "ipython3",
   "version": "3.6.1"
  }
 },
 "nbformat": 4,
 "nbformat_minor": 2
}
