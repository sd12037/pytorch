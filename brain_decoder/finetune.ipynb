{
 "cells": [
  {
   "cell_type": "code",
   "execution_count": 4,
   "metadata": {
    "collapsed": true
   },
   "outputs": [],
   "source": [
    "import numpy as np\n",
    "import torch\n",
    "from torch import nn\n",
    "from torch.autograd import Variable\n",
    "import matplotlib.pyplot as plt\n",
    "from load_data import get_data, get_data_multi, get_crops, get_crops_multi,get_data_one_class\n",
    "%matplotlib inline"
   ]
  },
  {
   "cell_type": "code",
   "execution_count": null,
   "metadata": {},
   "outputs": [],
   "source": [
    "def time_normalization(x, time_dim):\n",
    "    return (x-x.mean(dim=time_dim, keepdim=True))/(torch.sqrt(x.var(dim=time_dim, keepdim=True))+1e-8)\n",
    "class FBCSP(nn.Module):\n",
    "  def __init__(self):\n",
    "    super(FBCSP, self).__init__()\n",
    "    self.time_normalization = time_normalization\n",
    "    self.conv_time = nn.Conv2d(1, 32, (75, 1))\n",
    "    self.conv_spat = nn.Conv2d(32, 32, (1, 64), bias=False)\n",
    "    self.batchnorm2 = nn.BatchNorm2d(32)\n",
    "    self.pool = nn.AvgPool2d(kernel_size=(75, 1), stride=(25, 1))\n",
    "    self.dropout = nn.Dropout2d(p=0.5)\n",
    "    self.conv_class = nn.Conv2d(32, 2, (12, 1))\n",
    "    self.score_ave = nn.AdaptiveAvgPool2d((1, 1))\n",
    "\n",
    "  def forward(self, x):\n",
    "    x = self.time_normalization(x, time_dim=2)\n",
    "    h = self.conv_time(x)\n",
    "    h = self.conv_spat(h)\n",
    "    h = self.batchnorm2(h)\n",
    "    h = self.pool(h)\n",
    "    h = self.dropout(h)\n",
    "    h = self.conv_class(h)\n",
    "    h = self.score_ave(h)\n",
    "    # print(h.size())\n",
    "    # return h\n",
    "    return h.squeeze()\n",
    "\n",
    "import os, sys\n",
    "os.chdir('/home/seigyo/Documents/pytorch/brain_decoder/FBCSPdata')\n",
    "model2 = FBCSP()\n",
    "# パラメータの読み込み\n",
    "param = torch.load('publicBCImodel.pth')\n",
    "model2.load_state_dict(param)"
   ]
  },
  {
   "cell_type": "code",
   "execution_count": null,
   "metadata": {},
   "outputs": [],
   "source": [
    "X, y = get_data(id=99, event_code=[4,8,12], filter=[0.5, 45], t=[0., 4])\n",
    "X = X.reshape(X.shape[0], 1, X.shape[1], X.shape[2]).transpose(0,1,3,2)"
   ]
  },
  {
   "cell_type": "code",
   "execution_count": null,
   "metadata": {},
   "outputs": [],
   "source": [
    "X_var = Variable(torch.from_numpy(X)).cuda()\n",
    "model2.cuda()"
   ]
  },
  {
   "cell_type": "code",
   "execution_count": null,
   "metadata": {
    "collapsed": true
   },
   "outputs": [],
   "source": [
    "Y = model2(X_var)"
   ]
  },
  {
   "cell_type": "code",
   "execution_count": null,
   "metadata": {
    "collapsed": true
   },
   "outputs": [],
   "source": [
    "Y_np = Y.cpu().data.numpy()"
   ]
  },
  {
   "cell_type": "code",
   "execution_count": null,
   "metadata": {},
   "outputs": [],
   "source": [
    "Y_predict = Y_np.argmax(axis=1)\n",
    "print(Y_predict)\n",
    "print(y)"
   ]
  },
  {
   "cell_type": "code",
   "execution_count": null,
   "metadata": {},
   "outputs": [],
   "source": [
    "(Y_predict == y).sum()/len(y)"
   ]
  },
  {
   "cell_type": "code",
   "execution_count": null,
   "metadata": {},
   "outputs": [],
   "source": [
    "acc_list_trainer = []\n",
    "for i in range(1, 51):\n",
    "    X, y = get_data(id=i, event_code=[4,8,12], filter=[0.5, 45], t=[0., 4])\n",
    "    X = X.reshape(X.shape[0], 1, X.shape[1], X.shape[2]).transpose(0,1,3,2)\n",
    "    X_var = Variable(torch.from_numpy(X)).cuda()\n",
    "    Y = model2(X_var)\n",
    "    Y_np = Y.cpu().data.numpy()\n",
    "    Y_predict = Y_np.argmax(axis=1)\n",
    "    acc = (Y_predict == y).sum()/len(y)\n",
    "    print(acc)\n",
    "    acc_list_trainer.append(acc)\n",
    "    "
   ]
  },
  {
   "cell_type": "code",
   "execution_count": null,
   "metadata": {},
   "outputs": [],
   "source": [
    "acc_list_tester = []\n",
    "for i in range(51, 100):\n",
    "    X, y = get_data(id=i, event_code=[4,8,12], filter=[0.5, 45], t=[0., 4])\n",
    "    X = X.reshape(X.shape[0], 1, X.shape[1], X.shape[2]).transpose(0,1,3,2)\n",
    "    X_var = Variable(torch.from_numpy(X)).cuda()\n",
    "    Y = model2(X_var)\n",
    "    Y_np = Y.cpu().data.numpy()\n",
    "    Y_predict = Y_np.argmax(axis=1)\n",
    "    acc = (Y_predict == y).sum()/len(y)\n",
    "    print(acc)\n",
    "    acc_list_tester.append(acc)\n",
    "    "
   ]
  },
  {
   "cell_type": "code",
   "execution_count": null,
   "metadata": {},
   "outputs": [],
   "source": [
    "print(sum(acc_list_trainer)/len(acc_list_trainer))\n",
    "print(sum(acc_list_tester)/len(acc_list_tester))"
   ]
  },
  {
   "cell_type": "code",
   "execution_count": null,
   "metadata": {
    "collapsed": true
   },
   "outputs": [],
   "source": [
    "import seaborn as sns"
   ]
  },
  {
   "cell_type": "code",
   "execution_count": null,
   "metadata": {},
   "outputs": [],
   "source": [
    "sns.distplot(acc_list_trainer, kde=False, rug=False, bins=10) "
   ]
  },
  {
   "cell_type": "code",
   "execution_count": null,
   "metadata": {},
   "outputs": [],
   "source": [
    "sns.distplot(acc_list_tester, kde=False, rug=False, bins=10)\n",
    "plt.xlabel('accuracy', fontsize=18)\n",
    "plt.ylabel('number of subject', fontsize=18)"
   ]
  },
  {
   "cell_type": "code",
   "execution_count": null,
   "metadata": {
    "collapsed": true
   },
   "outputs": [],
   "source": [
    "fine_model = model2.cuda()\n",
    "\n",
    "for param in fine_model.parameters():\n",
    "    param.requires_grad = False"
   ]
  },
  {
   "cell_type": "code",
   "execution_count": null,
   "metadata": {},
   "outputs": [],
   "source": [
    "fine_model.conv_class = nn.Conv2d(32, 2, (12,1))\n",
    "fine_model.cuda()"
   ]
  },
  {
   "cell_type": "code",
   "execution_count": null,
   "metadata": {},
   "outputs": [],
   "source": []
  },
  {
   "cell_type": "code",
   "execution_count": null,
   "metadata": {
    "collapsed": true
   },
   "outputs": [],
   "source": []
  }
 ],
 "metadata": {
  "kernelspec": {
   "display_name": "Python 3",
   "language": "python",
   "name": "python3"
  },
  "language_info": {
   "codemirror_mode": {
    "name": "ipython",
    "version": 3
   },
   "file_extension": ".py",
   "mimetype": "text/x-python",
   "name": "python",
   "nbconvert_exporter": "python",
   "pygments_lexer": "ipython3",
   "version": "3.6.1"
  }
 },
 "nbformat": 4,
 "nbformat_minor": 2
}
