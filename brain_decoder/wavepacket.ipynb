{
 "cells": [
  {
   "cell_type": "code",
   "execution_count": 15,
   "metadata": {
    "collapsed": true
   },
   "outputs": [],
   "source": [
    "import os, sys\n",
    "os.chdir('/home/seigyo/Documents/pytorch/brain_decoder')\n",
    "sys.path.append(os.pardir)\n",
    "import numpy as np\n",
    "from numpy.random import RandomState\n",
    "import torch\n",
    "from torch import nn\n",
    "import torch.nn.functional as F\n",
    "from torch.autograd import Variable\n",
    "from torch import optim\n",
    "import mne\n",
    "from mne.io import concatenate_raws\n",
    "from mymodule.utils import data_loader, evaluator\n",
    "from mymodule.layers import LSTM, Residual_block, Res_net, Wavelet_cnn, NlayersSeqConvLSTM\n",
    "from mymodule.trainer import Trainer\n",
    "from mymodule.optim import Eve, YFOptimizer\n",
    "from sklearn.utils import shuffle\n",
    "from tensorboardX import SummaryWriter\n",
    "from load_data import get_data, get_data_multi, get_crops, get_crops_multi\n",
    "from sklearn.model_selection import KFold\n",
    "import matplotlib.pyplot as plt\n",
    "import seaborn as sns\n",
    "%matplotlib inline\n",
    "\n",
    "class Wavelet_cnn(nn.Module):\n",
    "    '''\n",
    "    input size is (batch, 1, seq, electrode)\n",
    "    seq is expected 2^n\n",
    "    output[0]: decomposition: size is (batch, 1, seq, electrode)\n",
    "    output[1]: scalegram: size is (batch, level, seq, electrode)\n",
    "    output[2]: list of pure coef\n",
    "    '''\n",
    "    def __init__(self, conv_length=32, stride=2, level=100):\n",
    "        super(Wavelet_cnn, self).__init__()\n",
    "        pad = conv_length - 1\n",
    "        self.pad = nn.ZeroPad2d((0, 0, pad, 0))\n",
    "        self.conv_length = conv_length\n",
    "        self.stride = stride\n",
    "        self.level = level\n",
    "        ### l_pass, h_pass\n",
    "        self.l_conv = nn.Conv2d(1, 1, (conv_length, 1),\n",
    "                                stride=(1, 1), bias=False)\n",
    "        self.h_conv = nn.Conv2d(1, 1, (conv_length, 1),\n",
    "                                stride=(1, 1), bias=False)\n",
    "        ### down sampler\n",
    "        self.l_downsample = nn.Conv2d(1, 1, (1, 1),\n",
    "                                      stride=(stride, 1), bias=False)\n",
    "        self.h_downsample = nn.Conv2d(1, 1, (1, 1),\n",
    "                                      stride=(stride, 1), bias=False)\n",
    "        self.init_filter()\n",
    "\n",
    "\n",
    "    def init_filter(self):\n",
    "        self.l_conv.weight.data.fill_(1.0*(1/self.l_conv.weight.size(2)))\n",
    "        self.h_conv.weight.data.fill_(1.0*(1/self.h_conv.weight.size(2)))\n",
    "        for i in range(0, self.conv_length, 2):\n",
    "            self.h_conv.weight.data[:,:,i,:] *= -1\n",
    "\n",
    "    def forward(self, x):\n",
    "#         x = x.unsqueeze(1).unsqueeze(-1)\n",
    "        b = x\n",
    "        coefs = []\n",
    "        batch_size = x.size(0)\n",
    "        for i in range(self.level):\n",
    "            num_elec = b.size(3)\n",
    "            seq_half = int(b.size(2)/2)\n",
    "            # a = F.adaptive_avg_pool2d(self.h_conv(self.pad(b)),\n",
    "            #                           (seq_half, num_elec))\n",
    "            # b = F.adaptive_avg_pool2d(self.l_conv(self.pad(b)),\n",
    "            #                           (seq_half, num_elec))\n",
    "            a = self.h_downsample(self.h_conv(self.pad(b)))\n",
    "            b = self.l_downsample(self.l_conv(self.pad(b)))\n",
    "            coefs.append(a.view(batch_size,-1))\n",
    "            coefs.append(b.view(batch_size,-1))\n",
    "            \n",
    "#             torch.cat((a.view(batch_size,-1), b.view(batch_size,-1)), dim=1)\n",
    "\n",
    "            if b.size(2) < self.stride:\n",
    "                break\n",
    "#         print('composition level is {}'.format(i+1))\n",
    "        return coefs"
   ]
  },
  {
   "cell_type": "code",
   "execution_count": 16,
   "metadata": {
    "collapsed": true
   },
   "outputs": [],
   "source": [
    "model = Wavelet_cnn().cuda()"
   ]
  },
  {
   "cell_type": "code",
   "execution_count": 17,
   "metadata": {},
   "outputs": [],
   "source": [
    "X = Variable(torch.randn((32, 1, 160, 64)).cuda())\n",
    "Y = model(X)"
   ]
  },
  {
   "cell_type": "code",
   "execution_count": 18,
   "metadata": {},
   "outputs": [
    {
     "data": {
      "text/plain": [
       "torch.Size([32, 640])"
      ]
     },
     "execution_count": 18,
     "metadata": {},
     "output_type": "execute_result"
    }
   ],
   "source": [
    "Y[6].size()"
   ]
  },
  {
   "cell_type": "code",
   "execution_count": null,
   "metadata": {},
   "outputs": [],
   "source": [
    "torch.cat((x1,x2), dim=1).size()"
   ]
  }
 ],
 "metadata": {
  "kernelspec": {
   "display_name": "Python 3",
   "language": "python",
   "name": "python3"
  },
  "language_info": {
   "codemirror_mode": {
    "name": "ipython",
    "version": 3
   },
   "file_extension": ".py",
   "mimetype": "text/x-python",
   "name": "python",
   "nbconvert_exporter": "python",
   "pygments_lexer": "ipython3",
   "version": "3.6.1"
  }
 },
 "nbformat": 4,
 "nbformat_minor": 2
}
