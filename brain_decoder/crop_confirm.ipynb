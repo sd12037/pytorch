{
 "cells": [
  {
   "cell_type": "code",
   "execution_count": 1,
   "metadata": {},
   "outputs": [],
   "source": [
    "import os, sys\n",
    "os.chdir('/home/seigyo/Documents/pytorch/brain_decoder')\n",
    "sys.path.append(os.pardir)\n",
    "import numpy as np\n",
    "from numpy.random import RandomState\n",
    "import torch\n",
    "from torch import nn\n",
    "import torch.nn.functional as F\n",
    "from torch.autograd import Variable\n",
    "from torch import optim\n",
    "import mne\n",
    "from mne.io import concatenate_raws\n",
    "from mymodule.utils import data_loader, evaluator\n",
    "from mymodule.trainer import Trainer\n",
    "from sklearn.utils import shuffle\n",
    "from tensorboardX import SummaryWriter\n",
    "from load_data import get_data, get_data_multi, get_crops, get_crops_multi"
   ]
  },
  {
   "cell_type": "code",
   "execution_count": 4,
   "metadata": {},
   "outputs": [
    {
     "name": "stdout",
     "output_type": "stream",
     "text": [
      "Extracting edf Parameters from /home/seigyo/mne_data/MNE-eegbci-data/physiobank/database/eegmmidb/S001/S001R06.edf...\n",
      "EDF file detected\n",
      "Setting channel info structure...\n",
      "Created Raw.info structure...\n",
      "Reading 0 ... 19999  =      0.000 ...   124.994 secs...\n",
      "Ready.\n",
      "Extracting edf Parameters from /home/seigyo/mne_data/MNE-eegbci-data/physiobank/database/eegmmidb/S001/S001R10.edf...\n",
      "EDF file detected\n",
      "Setting channel info structure...\n",
      "Created Raw.info structure...\n",
      "Reading 0 ... 19999  =      0.000 ...   124.994 secs...\n",
      "Ready.\n",
      "Extracting edf Parameters from /home/seigyo/mne_data/MNE-eegbci-data/physiobank/database/eegmmidb/S001/S001R14.edf...\n",
      "EDF file detected\n",
      "Setting channel info structure...\n",
      "Created Raw.info structure...\n",
      "Reading 0 ... 19999  =      0.000 ...   124.994 secs...\n",
      "Ready.\n",
      "Extracting edf Parameters from /home/seigyo/mne_data/MNE-eegbci-data/physiobank/database/eegmmidb/S002/S002R06.edf...\n",
      "EDF file detected\n",
      "Setting channel info structure...\n",
      "Created Raw.info structure...\n",
      "Reading 0 ... 19679  =      0.000 ...   122.994 secs...\n",
      "Ready.\n",
      "Extracting edf Parameters from /home/seigyo/mne_data/MNE-eegbci-data/physiobank/database/eegmmidb/S002/S002R10.edf...\n",
      "EDF file detected\n",
      "Setting channel info structure...\n",
      "Created Raw.info structure...\n",
      "Reading 0 ... 19679  =      0.000 ...   122.994 secs...\n",
      "Ready.\n",
      "Extracting edf Parameters from /home/seigyo/mne_data/MNE-eegbci-data/physiobank/database/eegmmidb/S002/S002R14.edf...\n",
      "EDF file detected\n",
      "Setting channel info structure...\n",
      "Created Raw.info structure...\n",
      "Reading 0 ... 19679  =      0.000 ...   122.994 secs...\n",
      "Ready.\n",
      "Extracting edf Parameters from /home/seigyo/mne_data/MNE-eegbci-data/physiobank/database/eegmmidb/S003/S003R06.edf...\n",
      "EDF file detected\n",
      "Setting channel info structure...\n",
      "Created Raw.info structure...\n",
      "Reading 0 ... 19999  =      0.000 ...   124.994 secs...\n",
      "Ready.\n",
      "Extracting edf Parameters from /home/seigyo/mne_data/MNE-eegbci-data/physiobank/database/eegmmidb/S003/S003R10.edf...\n",
      "EDF file detected\n",
      "Setting channel info structure...\n",
      "Created Raw.info structure...\n",
      "Reading 0 ... 19999  =      0.000 ...   124.994 secs...\n",
      "Ready.\n",
      "Extracting edf Parameters from /home/seigyo/mne_data/MNE-eegbci-data/physiobank/database/eegmmidb/S003/S003R14.edf...\n",
      "EDF file detected\n",
      "Setting channel info structure...\n",
      "Created Raw.info structure...\n",
      "Reading 0 ... 19999  =      0.000 ...   124.994 secs...\n",
      "Ready.\n",
      "Extracting edf Parameters from /home/seigyo/mne_data/MNE-eegbci-data/physiobank/database/eegmmidb/S004/S004R06.edf...\n",
      "EDF file detected\n",
      "Setting channel info structure...\n",
      "Created Raw.info structure...\n",
      "Reading 0 ... 19679  =      0.000 ...   122.994 secs...\n",
      "Ready.\n",
      "Extracting edf Parameters from /home/seigyo/mne_data/MNE-eegbci-data/physiobank/database/eegmmidb/S004/S004R10.edf...\n",
      "EDF file detected\n",
      "Setting channel info structure...\n",
      "Created Raw.info structure...\n",
      "Reading 0 ... 19679  =      0.000 ...   122.994 secs...\n",
      "Ready.\n",
      "Extracting edf Parameters from /home/seigyo/mne_data/MNE-eegbci-data/physiobank/database/eegmmidb/S004/S004R14.edf...\n",
      "EDF file detected\n",
      "Setting channel info structure...\n",
      "Created Raw.info structure...\n",
      "Reading 0 ... 19679  =      0.000 ...   122.994 secs...\n",
      "Ready.\n",
      "Extracting edf Parameters from /home/seigyo/mne_data/MNE-eegbci-data/physiobank/database/eegmmidb/S005/S005R06.edf...\n",
      "EDF file detected\n",
      "Setting channel info structure...\n",
      "Created Raw.info structure...\n",
      "Reading 0 ... 19679  =      0.000 ...   122.994 secs...\n",
      "Ready.\n",
      "Extracting edf Parameters from /home/seigyo/mne_data/MNE-eegbci-data/physiobank/database/eegmmidb/S005/S005R10.edf...\n",
      "EDF file detected\n",
      "Setting channel info structure...\n",
      "Created Raw.info structure...\n",
      "Reading 0 ... 19679  =      0.000 ...   122.994 secs...\n",
      "Ready.\n",
      "Extracting edf Parameters from /home/seigyo/mne_data/MNE-eegbci-data/physiobank/database/eegmmidb/S005/S005R14.edf...\n",
      "EDF file detected\n",
      "Setting channel info structure...\n",
      "Created Raw.info structure...\n",
      "Reading 0 ... 19679  =      0.000 ...   122.994 secs...\n",
      "Ready.\n",
      "Extracting edf Parameters from /home/seigyo/mne_data/MNE-eegbci-data/physiobank/database/eegmmidb/S006/S006R06.edf...\n",
      "EDF file detected\n",
      "Setting channel info structure...\n",
      "Created Raw.info structure...\n",
      "Reading 0 ... 19679  =      0.000 ...   122.994 secs...\n",
      "Ready.\n",
      "Extracting edf Parameters from /home/seigyo/mne_data/MNE-eegbci-data/physiobank/database/eegmmidb/S006/S006R10.edf...\n",
      "EDF file detected\n",
      "Setting channel info structure...\n",
      "Created Raw.info structure...\n",
      "Reading 0 ... 19679  =      0.000 ...   122.994 secs...\n",
      "Ready.\n",
      "Extracting edf Parameters from /home/seigyo/mne_data/MNE-eegbci-data/physiobank/database/eegmmidb/S006/S006R14.edf...\n",
      "EDF file detected\n",
      "Setting channel info structure...\n",
      "Created Raw.info structure...\n",
      "Reading 0 ... 19679  =      0.000 ...   122.994 secs...\n",
      "Ready.\n",
      "Extracting edf Parameters from /home/seigyo/mne_data/MNE-eegbci-data/physiobank/database/eegmmidb/S007/S007R06.edf...\n",
      "EDF file detected\n",
      "Setting channel info structure...\n",
      "Created Raw.info structure...\n",
      "Reading 0 ... 19999  =      0.000 ...   124.994 secs...\n",
      "Ready.\n",
      "Extracting edf Parameters from /home/seigyo/mne_data/MNE-eegbci-data/physiobank/database/eegmmidb/S007/S007R10.edf...\n",
      "EDF file detected\n",
      "Setting channel info structure...\n",
      "Created Raw.info structure...\n",
      "Reading 0 ... 19999  =      0.000 ...   124.994 secs...\n",
      "Ready.\n",
      "Extracting edf Parameters from /home/seigyo/mne_data/MNE-eegbci-data/physiobank/database/eegmmidb/S007/S007R14.edf...\n",
      "EDF file detected\n",
      "Setting channel info structure...\n",
      "Created Raw.info structure...\n",
      "Reading 0 ... 19999  =      0.000 ...   124.994 secs...\n",
      "Ready.\n",
      "Extracting edf Parameters from /home/seigyo/mne_data/MNE-eegbci-data/physiobank/database/eegmmidb/S008/S008R06.edf...\n",
      "EDF file detected\n",
      "Setting channel info structure...\n",
      "Created Raw.info structure...\n",
      "Reading 0 ... 19679  =      0.000 ...   122.994 secs...\n",
      "Ready.\n",
      "Extracting edf Parameters from /home/seigyo/mne_data/MNE-eegbci-data/physiobank/database/eegmmidb/S008/S008R10.edf...\n",
      "EDF file detected\n",
      "Setting channel info structure...\n",
      "Created Raw.info structure...\n",
      "Reading 0 ... 19679  =      0.000 ...   122.994 secs...\n",
      "Ready.\n",
      "Extracting edf Parameters from /home/seigyo/mne_data/MNE-eegbci-data/physiobank/database/eegmmidb/S008/S008R14.edf...\n",
      "EDF file detected\n",
      "Setting channel info structure...\n",
      "Created Raw.info structure...\n",
      "Reading 0 ... 19679  =      0.000 ...   122.994 secs...\n",
      "Ready.\n",
      "Extracting edf Parameters from /home/seigyo/mne_data/MNE-eegbci-data/physiobank/database/eegmmidb/S009/S009R06.edf...\n",
      "EDF file detected\n",
      "Setting channel info structure...\n",
      "Created Raw.info structure...\n",
      "Reading 0 ... 19679  =      0.000 ...   122.994 secs...\n",
      "Ready.\n",
      "Extracting edf Parameters from /home/seigyo/mne_data/MNE-eegbci-data/physiobank/database/eegmmidb/S009/S009R10.edf...\n",
      "EDF file detected\n",
      "Setting channel info structure...\n",
      "Created Raw.info structure...\n",
      "Reading 0 ... 19679  =      0.000 ...   122.994 secs...\n",
      "Ready.\n",
      "Extracting edf Parameters from /home/seigyo/mne_data/MNE-eegbci-data/physiobank/database/eegmmidb/S009/S009R14.edf...\n",
      "EDF file detected\n",
      "Setting channel info structure...\n",
      "Created Raw.info structure...\n",
      "Reading 0 ... 19679  =      0.000 ...   122.994 secs...\n",
      "Ready.\n",
      "Setting up band-pass filter from 0.5 - 36 Hz\n",
      "l_trans_bandwidth chosen to be 0.5 Hz\n",
      "h_trans_bandwidth chosen to be 9.0 Hz\n",
      "Filter length of 1057 samples (6.606 sec) selected\n",
      "Setting up band-pass filter from 0.5 - 36 Hz\n",
      "l_trans_bandwidth chosen to be 0.5 Hz\n",
      "h_trans_bandwidth chosen to be 9.0 Hz\n",
      "Filter length of 1057 samples (6.606 sec) selected\n",
      "Setting up band-pass filter from 0.5 - 36 Hz\n",
      "l_trans_bandwidth chosen to be 0.5 Hz\n",
      "h_trans_bandwidth chosen to be 9.0 Hz\n",
      "Filter length of 1057 samples (6.606 sec) selected\n",
      "Setting up band-pass filter from 0.5 - 36 Hz\n",
      "l_trans_bandwidth chosen to be 0.5 Hz\n",
      "h_trans_bandwidth chosen to be 9.0 Hz\n",
      "Filter length of 1057 samples (6.606 sec) selected\n",
      "Setting up band-pass filter from 0.5 - 36 Hz\n",
      "l_trans_bandwidth chosen to be 0.5 Hz\n",
      "h_trans_bandwidth chosen to be 9.0 Hz\n",
      "Filter length of 1057 samples (6.606 sec) selected\n",
      "Setting up band-pass filter from 0.5 - 36 Hz\n",
      "l_trans_bandwidth chosen to be 0.5 Hz\n",
      "h_trans_bandwidth chosen to be 9.0 Hz\n",
      "Filter length of 1057 samples (6.606 sec) selected\n",
      "Setting up band-pass filter from 0.5 - 36 Hz\n",
      "l_trans_bandwidth chosen to be 0.5 Hz\n"
     ]
    },
    {
     "name": "stdout",
     "output_type": "stream",
     "text": [
      "h_trans_bandwidth chosen to be 9.0 Hz\n",
      "Filter length of 1057 samples (6.606 sec) selected\n",
      "Setting up band-pass filter from 0.5 - 36 Hz\n",
      "l_trans_bandwidth chosen to be 0.5 Hz\n",
      "h_trans_bandwidth chosen to be 9.0 Hz\n",
      "Filter length of 1057 samples (6.606 sec) selected\n",
      "Setting up band-pass filter from 0.5 - 36 Hz\n",
      "l_trans_bandwidth chosen to be 0.5 Hz\n",
      "h_trans_bandwidth chosen to be 9.0 Hz\n",
      "Filter length of 1057 samples (6.606 sec) selected\n",
      "Setting up band-pass filter from 0.5 - 36 Hz\n",
      "l_trans_bandwidth chosen to be 0.5 Hz\n",
      "h_trans_bandwidth chosen to be 9.0 Hz\n",
      "Filter length of 1057 samples (6.606 sec) selected\n",
      "Setting up band-pass filter from 0.5 - 36 Hz\n",
      "l_trans_bandwidth chosen to be 0.5 Hz\n",
      "h_trans_bandwidth chosen to be 9.0 Hz\n",
      "Filter length of 1057 samples (6.606 sec) selected\n",
      "Setting up band-pass filter from 0.5 - 36 Hz\n",
      "l_trans_bandwidth chosen to be 0.5 Hz\n",
      "h_trans_bandwidth chosen to be 9.0 Hz\n",
      "Filter length of 1057 samples (6.606 sec) selected\n",
      "Setting up band-pass filter from 0.5 - 36 Hz\n",
      "l_trans_bandwidth chosen to be 0.5 Hz\n",
      "h_trans_bandwidth chosen to be 9.0 Hz\n",
      "Filter length of 1057 samples (6.606 sec) selected\n",
      "Setting up band-pass filter from 0.5 - 36 Hz\n",
      "l_trans_bandwidth chosen to be 0.5 Hz\n",
      "h_trans_bandwidth chosen to be 9.0 Hz\n",
      "Filter length of 1057 samples (6.606 sec) selected\n",
      "Setting up band-pass filter from 0.5 - 36 Hz\n",
      "l_trans_bandwidth chosen to be 0.5 Hz\n",
      "h_trans_bandwidth chosen to be 9.0 Hz\n",
      "Filter length of 1057 samples (6.606 sec) selected\n",
      "Setting up band-pass filter from 0.5 - 36 Hz\n",
      "l_trans_bandwidth chosen to be 0.5 Hz\n",
      "h_trans_bandwidth chosen to be 9.0 Hz\n",
      "Filter length of 1057 samples (6.606 sec) selected\n",
      "Setting up band-pass filter from 0.5 - 36 Hz\n",
      "l_trans_bandwidth chosen to be 0.5 Hz\n",
      "h_trans_bandwidth chosen to be 9.0 Hz\n",
      "Filter length of 1057 samples (6.606 sec) selected\n",
      "Setting up band-pass filter from 0.5 - 36 Hz\n",
      "l_trans_bandwidth chosen to be 0.5 Hz\n",
      "h_trans_bandwidth chosen to be 9.0 Hz\n",
      "Filter length of 1057 samples (6.606 sec) selected\n",
      "Setting up band-pass filter from 0.5 - 36 Hz\n",
      "l_trans_bandwidth chosen to be 0.5 Hz\n",
      "h_trans_bandwidth chosen to be 9.0 Hz\n",
      "Filter length of 1057 samples (6.606 sec) selected\n",
      "Setting up band-pass filter from 0.5 - 36 Hz\n",
      "l_trans_bandwidth chosen to be 0.5 Hz\n",
      "h_trans_bandwidth chosen to be 9.0 Hz\n",
      "Filter length of 1057 samples (6.606 sec) selected\n",
      "Setting up band-pass filter from 0.5 - 36 Hz\n",
      "l_trans_bandwidth chosen to be 0.5 Hz\n",
      "h_trans_bandwidth chosen to be 9.0 Hz\n",
      "Filter length of 1057 samples (6.606 sec) selected\n",
      "Setting up band-pass filter from 0.5 - 36 Hz\n",
      "l_trans_bandwidth chosen to be 0.5 Hz\n",
      "h_trans_bandwidth chosen to be 9.0 Hz\n",
      "Filter length of 1057 samples (6.606 sec) selected\n",
      "Setting up band-pass filter from 0.5 - 36 Hz\n",
      "l_trans_bandwidth chosen to be 0.5 Hz\n",
      "h_trans_bandwidth chosen to be 9.0 Hz\n",
      "Filter length of 1057 samples (6.606 sec) selected\n",
      "Setting up band-pass filter from 0.5 - 36 Hz\n",
      "l_trans_bandwidth chosen to be 0.5 Hz\n",
      "h_trans_bandwidth chosen to be 9.0 Hz\n",
      "Filter length of 1057 samples (6.606 sec) selected\n",
      "Setting up band-pass filter from 0.5 - 36 Hz\n",
      "l_trans_bandwidth chosen to be 0.5 Hz\n",
      "h_trans_bandwidth chosen to be 9.0 Hz\n",
      "Filter length of 1057 samples (6.606 sec) selected\n",
      "Setting up band-pass filter from 0.5 - 36 Hz\n",
      "l_trans_bandwidth chosen to be 0.5 Hz\n",
      "h_trans_bandwidth chosen to be 9.0 Hz\n",
      "Filter length of 1057 samples (6.606 sec) selected\n",
      "Setting up band-pass filter from 0.5 - 36 Hz\n",
      "l_trans_bandwidth chosen to be 0.5 Hz\n",
      "h_trans_bandwidth chosen to be 9.0 Hz\n",
      "Filter length of 1057 samples (6.606 sec) selected\n",
      "Removing orphaned offset at the beginning of the file.\n",
      "809 events found\n",
      "Events id: [1 2 3]\n",
      "405 matching events found\n",
      "Not setting metadata\n",
      "Loading data for 405 events and 641 original time points ...\n",
      "0 bad epochs dropped\n",
      "get_time 0 to 1.0\n",
      "get_time 1 to 2.0\n",
      "get_time 2 to 3.0\n",
      "get_time 3 to 4.0\n",
      "(1620, 64, 161)\n",
      "(1620,)\n"
     ]
    }
   ],
   "source": [
    "X_crop, y_crop, _, _ = get_crops_multi(sub_id_range=[1, 10], event_code=[6,10,14],\n",
    "                                 t=[0, 4.0], filter=[0.5,36],\n",
    "                                 time_window=1.0, time_step=1)\n",
    "print(X_crop.shape)\n",
    "print(y_crop.shape)"
   ]
  },
  {
   "cell_type": "code",
   "execution_count": 5,
   "metadata": {},
   "outputs": [
    {
     "data": {
      "text/plain": [
       "[<matplotlib.lines.Line2D at 0x7f695ffaf940>]"
      ]
     },
     "execution_count": 5,
     "metadata": {},
     "output_type": "execute_result"
    },
    {
     "data": {
      "image/png": "[encoded data removed]",
      "text/plain": [
       "<matplotlib.figure.Figure at 0x7f6973b96d68>"
      ]
     },
     "metadata": {},
     "output_type": "display_data"
    },
    {
     "data": {
      "image/png": "[encoded data removed]",
      "text/plain": [
       "<matplotlib.figure.Figure at 0x7f6965c47ef0>"
      ]
     },
     "metadata": {},
     "output_type": "display_data"
    }
   ],
   "source": [
    "import matplotlib.pyplot as plt\n",
    "import seaborn\n",
    "%matplotlib inline\n",
    "plt.figure(0)\n",
    "plt.plot(X_crop[0,0,:])\n",
    "plt.figure(1)\n",
    "plt.plot(X_crop[3,0,:])"
   ]
  },
  {
   "cell_type": "code",
   "execution_count": 6,
   "metadata": {},
   "outputs": [
    {
     "name": "stdout",
     "output_type": "stream",
     "text": [
      "Removing orphaned offset at the beginning of the file.\n",
      "89 events found\n",
      "Events id: [1 2 3]\n",
      "45 matching events found\n",
      "Not setting metadata\n",
      "Loading data for 45 events and 641 original time points ...\n",
      "0 bad epochs dropped\n"
     ]
    }
   ],
   "source": [
    "subject_id = 1\n",
    "filter=[0.5, 36]\n",
    "t = [0, 4.0]\n",
    "event_codes = [6,10,14]\n",
    "physionet_paths = mne.datasets.eegbci.load_data(subject_id, event_codes)\n",
    "parts = [mne.io.read_raw_edf(path, preload=True,stim_channel='auto', verbose='WARNING')\n",
    "         for path in physionet_paths]\n",
    "raw = concatenate_raws(parts)\n",
    "if filter != None:\n",
    "    raw.filter(filter[0], filter[1], fir_design='firwin', skip_by_annotation='edge')\n",
    "else:\n",
    "    pass\n",
    "events = mne.find_events(raw, shortest_event=0, stim_channel='STI 014')\n",
    "eeg_channel_inds = mne.pick_types(raw.info, meg=False, eeg=True, stim=False, eog=False,\n",
    "                   exclude='bads')\n",
    "epochs = mne.Epochs(raw, events, dict(hands=2, feet=3), tmin=t[0], tmax=t[1], proj=False, picks=eeg_channel_inds,\n",
    "                baseline=None, preload=True)"
   ]
  },
  {
   "cell_type": "code",
   "execution_count": 7,
   "metadata": {
    "collapsed": true
   },
   "outputs": [],
   "source": [
    "epoch_1 = epochs.copy().crop(tmin=0,tmax=1)\n",
    "epoch_2 = epochs.copy().crop(tmin=1,tmax=2)"
   ]
  },
  {
   "cell_type": "code",
   "execution_count": 8,
   "metadata": {
    "collapsed": true
   },
   "outputs": [],
   "source": [
    "x1 = (epoch_1.get_data()*1e6).astype(np.float32)\n",
    "x2 = (epoch_2.get_data()*1e6).astype(np.float32)\n",
    "y1 = (epoch_1.events[:,2]-2).astype(np.int64)\n",
    "y2 = (epoch_2.events[:,2]-2).astype(np.int64)"
   ]
  },
  {
   "cell_type": "code",
   "execution_count": 9,
   "metadata": {},
   "outputs": [
    {
     "name": "stdout",
     "output_type": "stream",
     "text": [
      "[1 0 0 1 0 1 1 0 0 1 1 0 0 1 1 0 1 1 0 1 0 0 1 1 0 0 1 1 0 1 1 0 1 0 0 1 0\n",
      " 1 0 1 1 0 1 0 1]\n",
      "[1 0 0 1 0 1 1 0 0 1 1 0 0 1 1 0 1 1 0 1 0 0 1 1 0 0 1 1 0 1 1 0 1 0 0 1 0\n",
      " 1 0 1 1 0 1 0 1]\n"
     ]
    }
   ],
   "source": [
    "print(y1)\n",
    "print(y2)"
   ]
  },
  {
   "cell_type": "code",
   "execution_count": 41,
   "metadata": {},
   "outputs": [
    {
     "name": "stdout",
     "output_type": "stream",
     "text": [
      "get_time 0 to 1.0\n",
      "get_time 0.5 to 1.5\n",
      "(90, 64, 161)\n",
      "(90,)\n",
      "get_time 1.0 to 2.0\n",
      "(135, 64, 161)\n",
      "(135,)\n",
      "get_time 1.5 to 2.5\n",
      "(180, 64, 161)\n",
      "(180,)\n",
      "get_time 2.0 to 3.0\n",
      "(225, 64, 161)\n",
      "(225,)\n",
      "get_time 2.5 to 3.5\n",
      "(270, 64, 161)\n",
      "(270,)\n",
      "get_time 3.0 to 4.0\n",
      "(315, 64, 161)\n",
      "(315,)\n"
     ]
    }
   ],
   "source": [
    "time_window = 1.0\n",
    "time_step = 0.5\n",
    "epochs_list = []\n",
    "start = t[0]\n",
    "end = start + time_window\n",
    "\n",
    "this_epoch = epochs.copy().crop(tmin=start, tmax=end)\n",
    "x = (this_epoch.get_data()*1e6).astype(np.float32)\n",
    "y = (this_epoch.events[:,2]-2).astype(np.int64)  \n",
    "print('get_time {} to {}'.format(start, end))\n",
    "\n",
    "while True:\n",
    "    start += time_step\n",
    "    end = start + time_window\n",
    "    if end > t[1]:\n",
    "        break\n",
    "#     epochs_list.append(epochs.copy().crop(tmin=start, tmax=end))\n",
    "    this_epoch = epochs.copy().crop(tmin=start, tmax=end)\n",
    "    x = np.vstack((x, (this_epoch.get_data()*1e6).astype(np.float32)))\n",
    "    y = np.hstack((y, (this_epoch.events[:,2]-2).astype(np.int64)))   \n",
    "    print('get_time {} to {}'.format(start, end))\n",
    "    \n",
    "    print(x.shape)\n",
    "    print(y.shape)"
   ]
  },
  {
   "cell_type": "code",
   "execution_count": 27,
   "metadata": {},
   "outputs": [
    {
     "name": "stdout",
     "output_type": "stream",
     "text": [
      "Removing orphaned offset at the beginning of the file.\n",
      "89 events found\n",
      "Events id: [1 2 3]\n",
      "45 matching events found\n",
      "Not setting metadata\n",
      "Loading data for 45 events and 497 original time points ...\n",
      "0 bad epochs dropped\n",
      "Removing orphaned offset at the beginning of the file.\n",
      "89 events found\n",
      "Events id: [1 2 3]\n",
      "45 matching events found\n",
      "Not setting metadata\n",
      "Loading data for 45 events and 497 original time points ...\n",
      "0 bad epochs dropped\n"
     ]
    }
   ],
   "source": [
    "X1, y1 = get_data(id=1, event_code=[4,8,12], filter=[0.5, 36], t=[1, 4.1])\n",
    "X2, y2 = get_data(id=1, event_code=[6,10,14], filter=[0.5, 36], t=[1, 4.1])"
   ]
  },
  {
   "cell_type": "code",
   "execution_count": null,
   "metadata": {},
   "outputs": [],
   "source": []
  },
  {
   "cell_type": "code",
   "execution_count": 28,
   "metadata": {
    "collapsed": true
   },
   "outputs": [],
   "source": [
    "X = np.vstack((X1,X2))\n",
    "y = np.hstack((y1,y2+2))"
   ]
  },
  {
   "cell_type": "code",
   "execution_count": 29,
   "metadata": {},
   "outputs": [
    {
     "data": {
      "text/plain": [
       "array([1, 0, 0, 1, 1, 0, 1, 0, 1, 0, 0, 1, 0, 1, 0, 0, 1, 0, 1, 0, 1, 0, 1,\n",
       "       1, 0, 0, 1, 1, 0, 0, 1, 0, 1, 0, 0, 1, 1, 0, 0, 1, 1, 0, 1, 0, 1, 3,\n",
       "       2, 2, 3, 2, 3, 3, 2, 2, 3, 3, 2, 2, 3, 3, 2, 3, 3, 2, 3, 2, 2, 3, 3,\n",
       "       2, 2, 3, 3, 2, 3, 3, 2, 3, 2, 2, 3, 2, 3, 2, 3, 3, 2, 3, 2, 3])"
      ]
     },
     "execution_count": 29,
     "metadata": {},
     "output_type": "execute_result"
    }
   ],
   "source": [
    "y"
   ]
  },
  {
   "cell_type": "code",
   "execution_count": 40,
   "metadata": {},
   "outputs": [
    {
     "ename": "TypeError",
     "evalue": "object of type 'NoneType' has no len()",
     "output_type": "error",
     "traceback": [
      "\u001b[0;31m---------------------------------------------------------------------------\u001b[0m",
      "\u001b[0;31mTypeError\u001b[0m                                 Traceback (most recent call last)",
      "\u001b[0;32m<ipython-input-40-183236840992>\u001b[0m in \u001b[0;36m<module>\u001b[0;34m()\u001b[0m\n\u001b[1;32m      4\u001b[0m \u001b[0mx\u001b[0m \u001b[0;34m=\u001b[0m \u001b[0;34m[\u001b[0m\u001b[0;36m1\u001b[0m\u001b[0;34m]\u001b[0m\u001b[0;34m*\u001b[0m\u001b[0mlen\u001b[0m\u001b[0;34m(\u001b[0m\u001b[0my\u001b[0m\u001b[0;34m)\u001b[0m\u001b[0;34m\u001b[0m\u001b[0m\n\u001b[1;32m      5\u001b[0m \u001b[0mplt\u001b[0m\u001b[0;34m.\u001b[0m\u001b[0mscatter\u001b[0m\u001b[0;34m(\u001b[0m\u001b[0mx\u001b[0m\u001b[0;34m,\u001b[0m\u001b[0my\u001b[0m\u001b[0;34m)\u001b[0m\u001b[0;34m\u001b[0m\u001b[0m\n\u001b[0;32m----> 6\u001b[0;31m \u001b[0msns\u001b[0m\u001b[0;34m.\u001b[0m\u001b[0mfactorplot\u001b[0m\u001b[0;34m(\u001b[0m\u001b[0my\u001b[0m\u001b[0;34m)\u001b[0m\u001b[0;34m\u001b[0m\u001b[0m\n\u001b[0m",
      "\u001b[0;32m~/anaconda3/lib/python3.6/site-packages/seaborn/categorical.py\u001b[0m in \u001b[0;36mfactorplot\u001b[0;34m(x, y, hue, data, row, col, col_wrap, estimator, ci, n_boot, units, order, hue_order, row_order, col_order, kind, size, aspect, orient, color, palette, legend, legend_out, sharex, sharey, margin_titles, facet_kws, **kwargs)\u001b[0m\n\u001b[1;32m   3425\u001b[0m \u001b[0;34m\u001b[0m\u001b[0m\n\u001b[1;32m   3426\u001b[0m     \u001b[0;31m# Initialize the facets\u001b[0m\u001b[0;34m\u001b[0m\u001b[0;34m\u001b[0m\u001b[0m\n\u001b[0;32m-> 3427\u001b[0;31m     \u001b[0mg\u001b[0m \u001b[0;34m=\u001b[0m \u001b[0mFacetGrid\u001b[0m\u001b[0;34m(\u001b[0m\u001b[0;34m**\u001b[0m\u001b[0mfacet_kws\u001b[0m\u001b[0;34m)\u001b[0m\u001b[0;34m\u001b[0m\u001b[0m\n\u001b[0m\u001b[1;32m   3428\u001b[0m \u001b[0;34m\u001b[0m\u001b[0m\n\u001b[1;32m   3429\u001b[0m     \u001b[0;31m# Draw the plot onto the facets\u001b[0m\u001b[0;34m\u001b[0m\u001b[0;34m\u001b[0m\u001b[0m\n",
      "\u001b[0;32m~/anaconda3/lib/python3.6/site-packages/seaborn/axisgrid.py\u001b[0m in \u001b[0;36m__init__\u001b[0;34m(self, data, row, col, hue, col_wrap, sharex, sharey, size, aspect, palette, row_order, col_order, hue_order, hue_kws, dropna, legend_out, despine, margin_titles, xlim, ylim, subplot_kws, gridspec_kws)\u001b[0m\n\u001b[1;32m    252\u001b[0m         \u001b[0;31m# Make a boolean mask that is True anywhere there is an NA\u001b[0m\u001b[0;34m\u001b[0m\u001b[0;34m\u001b[0m\u001b[0m\n\u001b[1;32m    253\u001b[0m         \u001b[0;31m# value in one of the faceting variables, but only if dropna is True\u001b[0m\u001b[0;34m\u001b[0m\u001b[0;34m\u001b[0m\u001b[0m\n\u001b[0;32m--> 254\u001b[0;31m         \u001b[0mnone_na\u001b[0m \u001b[0;34m=\u001b[0m \u001b[0mnp\u001b[0m\u001b[0;34m.\u001b[0m\u001b[0mzeros\u001b[0m\u001b[0;34m(\u001b[0m\u001b[0mlen\u001b[0m\u001b[0;34m(\u001b[0m\u001b[0mdata\u001b[0m\u001b[0;34m)\u001b[0m\u001b[0;34m,\u001b[0m \u001b[0mnp\u001b[0m\u001b[0;34m.\u001b[0m\u001b[0mbool\u001b[0m\u001b[0;34m)\u001b[0m\u001b[0;34m\u001b[0m\u001b[0m\n\u001b[0m\u001b[1;32m    255\u001b[0m         \u001b[0;32mif\u001b[0m \u001b[0mdropna\u001b[0m\u001b[0;34m:\u001b[0m\u001b[0;34m\u001b[0m\u001b[0m\n\u001b[1;32m    256\u001b[0m             \u001b[0mrow_na\u001b[0m \u001b[0;34m=\u001b[0m \u001b[0mnone_na\u001b[0m \u001b[0;32mif\u001b[0m \u001b[0mrow\u001b[0m \u001b[0;32mis\u001b[0m \u001b[0;32mNone\u001b[0m \u001b[0;32melse\u001b[0m \u001b[0mdata\u001b[0m\u001b[0;34m[\u001b[0m\u001b[0mrow\u001b[0m\u001b[0;34m]\u001b[0m\u001b[0;34m.\u001b[0m\u001b[0misnull\u001b[0m\u001b[0;34m(\u001b[0m\u001b[0;34m)\u001b[0m\u001b[0;34m\u001b[0m\u001b[0m\n",
      "\u001b[0;31mTypeError\u001b[0m: object of type 'NoneType' has no len()"
     ]
    },
    {
     "data": {
      "image/png": "[encoded data removed]",
      "text/plain": [
       "<matplotlib.figure.Figure at 0x7f4f9590fcc0>"
      ]
     },
     "metadata": {},
     "output_type": "display_data"
    }
   ],
   "source": [
    "import seaborn as sns\n",
    "import matplotlib.pyplot as plt\n",
    "%matplotlib inline\n",
    "x = [1]*len(y)\n",
    "plt.scatter(x,y)"
   ]
  }
 ],
 "metadata": {
  "kernelspec": {
   "display_name": "Python 3",
   "language": "python",
   "name": "python3"
  },
  "language_info": {
   "codemirror_mode": {
    "name": "ipython",
    "version": 3
   },
   "file_extension": ".py",
   "mimetype": "text/x-python",
   "name": "python",
   "nbconvert_exporter": "python",
   "pygments_lexer": "ipython3",
   "version": "3.6.1"
  }
 },
 "nbformat": 4,
 "nbformat_minor": 2
}
