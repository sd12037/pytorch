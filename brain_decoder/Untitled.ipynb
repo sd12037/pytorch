{
 "cells": [
  {
   "cell_type": "code",
   "execution_count": 2,
   "metadata": {},
   "outputs": [],
   "source": [
    "import os, sys\n",
    "os.chdir('/home/seigyo/Documents/pytorch/brain_decoder')\n",
    "sys.path.append(os.pardir)\n",
    "import numpy as np\n",
    "from numpy.random import RandomState\n",
    "import torch\n",
    "from torch import nn\n",
    "import torch.nn.functional as F\n",
    "from torch.autograd import Variable\n",
    "from torch import optim\n",
    "import mne\n",
    "from mne.io import concatenate_raws\n",
    "from mymodule.utils import data_loader, evaluator\n",
    "from mymodule.layers import LSTM, Residual_block, Res_net, Wavelet_cnn, NlayersSeqConvLSTM\n",
    "from mymodule.trainer import Trainer\n",
    "from sklearn.utils import shuffle\n",
    "from tensorboardX import SummaryWriter\n",
    "from load_data import get_data, get_data_multi, get_crops, get_crops_multi\n",
    "from sklearn.model_selection import KFold\n",
    "import matplotlib.pyplot as plt\n",
    "import seaborn as sns"
   ]
  },
  {
   "cell_type": "code",
   "execution_count": 14,
   "metadata": {},
   "outputs": [
    {
     "name": "stdout",
     "output_type": "stream",
     "text": [
      "Removing orphaned offset at the beginning of the file.\n",
      "89 events found\n",
      "Events id: [1 2 3]\n",
      "45 matching events found\n",
      "Not setting metadata\n",
      "Loading data for 45 events and 641 original time points ...\n",
      "0 bad epochs dropped\n",
      "Removing orphaned offset at the beginning of the file.\n",
      "89 events found\n",
      "Events id: [1 2 3]\n",
      "45 matching events found\n",
      "Not setting metadata\n",
      "Loading data for 45 events and 641 original time points ...\n",
      "0 bad epochs dropped\n"
     ]
    }
   ],
   "source": [
    "substart=0\n",
    "subend=1\n",
    "for idx in range(substart, subend):\n",
    "    X1, y1 = get_data(id=idx+1, event_code=[4,8,12], filter=[0.5, 30], t=[0., 4])\n",
    "    X2, y2 = get_data(id=idx+1, event_code=[6,10,14], filter=[0.5, 30], t=[0., 4])    "
   ]
  },
  {
   "cell_type": "code",
   "execution_count": 36,
   "metadata": {},
   "outputs": [
    {
     "name": "stdout",
     "output_type": "stream",
     "text": [
      "Removing orphaned offset at the beginning of the file.\n",
      "179 events found\n",
      "Events id: [1 2 3]\n",
      "90 matching events found\n",
      "Not setting metadata\n",
      "Loading data for 90 events and 497 original time points ...\n",
      "0 bad epochs dropped\n"
     ]
    }
   ],
   "source": [
    "id=1\n",
    "event_code=[4,6,8,10,12,14]\n",
    "filter=[0.5, 36]\n",
    "t=[1, 4.1]\n",
    "# 5,6,7,10,13,14 are codes for executed and imagined hands/feet\n",
    "subject_id = id\n",
    "event_codes = event_code\n",
    "\n",
    "# This will download the files if you don't have them yet,\n",
    "# and then return the paths to the files.\n",
    "physionet_paths = mne.datasets.eegbci.load_data(subject_id, event_codes)\n",
    "\n",
    "# Load each of the files\n",
    "parts = [mne.io.read_raw_edf(path, preload=True,stim_channel='auto', verbose='WARNING')\n",
    "         for path in physionet_paths]\n",
    "\n",
    "# Concatenate them\n",
    "raw = concatenate_raws(parts)\n",
    "\n",
    "# bandpass filter\n",
    "if filter != None:\n",
    "    raw.filter(filter[0], filter[1], fir_design='firwin', skip_by_annotation='edge')\n",
    "else:\n",
    "    pass\n",
    "\n",
    "# Find the events in this dataset\n",
    "events = mne.find_events(raw, shortest_event=0, stim_channel='STI 014')\n",
    "\n",
    "# Use only EEG channels\n",
    "eeg_channel_inds = mne.pick_types(raw.info, meg=False, eeg=True, stim=False, eog=False,\n",
    "                   exclude='bads')\n",
    "\n",
    "# Extract trials, only using EEG channels\n",
    "epoched = mne.Epochs(raw, events, [2, 3], tmin=t[0], tmax=t[1], proj=False, picks=eeg_channel_inds,\n",
    "                baseline=None, preload=True)\n",
    "# change time length\n",
    "# epochs_train = epochs.copy().crop(tmin=1., tmax=2.)\n",
    "\n",
    "\n",
    "# Convert data from volt to millivolt\n",
    "# Pytorch expects float32 for input and int64 for labels.\n",
    "X = (epoched.get_data() * 1e6).astype(np.float32)\n",
    "y = (epoched.events[:,2] - 2).astype(np.int64) #2,3 -> 0,1"
   ]
  },
  {
   "cell_type": "code",
   "execution_count": 43,
   "metadata": {},
   "outputs": [],
   "source": [
    "os.mkdir('accuracies')\n",
    "np.save('accuracies/savetest.npy',y)"
   ]
  },
  {
   "cell_type": "code",
   "execution_count": 44,
   "metadata": {},
   "outputs": [
    {
     "data": {
      "text/plain": [
       "array([ 0.67391304,  0.51190476,  0.54347826,  0.60177866,  0.54347826])"
      ]
     },
     "execution_count": 44,
     "metadata": {},
     "output_type": "execute_result"
    }
   ],
   "source": [
    "np.load('accuracies/task(rf)model(Conv)_acc.npy')"
   ]
  }
 ],
 "metadata": {
  "kernelspec": {
   "display_name": "Python 3",
   "language": "python",
   "name": "python3"
  },
  "language_info": {
   "codemirror_mode": {
    "name": "ipython",
    "version": 3
   },
   "file_extension": ".py",
   "mimetype": "text/x-python",
   "name": "python",
   "nbconvert_exporter": "python",
   "pygments_lexer": "ipython3",
   "version": "3.6.1"
  }
 },
 "nbformat": 4,
 "nbformat_minor": 2
}
