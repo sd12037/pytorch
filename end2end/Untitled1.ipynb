{
 "cells": [
  {
   "cell_type": "code",
   "execution_count": null,
   "metadata": {
    "collapsed": true
   },
   "outputs": [],
   "source": [
    "import numpy as np\n",
    "from sklearn import svm\n",
    "import os, sys\n",
    "sys.path.append(os.pardir)\n",
    "from load_foot import Load_data, make_data\n",
    "import matplotlib.pyplot as plt\n",
    "\n",
    "os.chdir('data')\n",
    "data = Load_data(train_mat='train_foot.mat',\n",
    "                 test_mat='test_foot.mat',\n",
    "                 train_label_mat='label_foot.mat',\n",
    "                 test_label_mat='label_foot.mat')\n",
    "os.chdir('..')\n",
    "\n",
    "# data.pca()\n",
    "# data.ica()\n",
    "train_x, train_t, test_x, test_t = data.corr_data(128)\n",
    "\n",
    "train_x = train_x.reshape(train_x.shape[0], -1)\n",
    "test_x = test_x.reshape(test_x.shape[0], -1)\n",
    "train_t = train_t[:,1]\n",
    "test_t = test_t[:,1]\n",
    "\n",
    "clf = svm.SVC()\n",
    "clf.fit(train_x, train_t)\n",
    "train_predict = clf.predict(train_x)\n",
    "corrects = (train_predict==train_t).astype(np.float32).sum()\n",
    "accuracy = corrects/train_x.shape[0]\n",
    "\n",
    "print(accuracy)"
   ]
  },
  {
   "cell_type": "code",
   "execution_count": null,
   "metadata": {
    "collapsed": true
   },
   "outputs": [],
   "source": []
  }
 ],
 "metadata": {
  "kernelspec": {
   "display_name": "Python 3",
   "language": "python",
   "name": "python3"
  },
  "language_info": {
   "codemirror_mode": {
    "name": "ipython",
    "version": 3
   },
   "file_extension": ".py",
   "mimetype": "text/x-python",
   "name": "python",
   "nbconvert_exporter": "python",
   "pygments_lexer": "ipython3",
   "version": "3.6.1"
  }
 },
 "nbformat": 4,
 "nbformat_minor": 2
}
