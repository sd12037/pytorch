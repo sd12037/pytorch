{
 "cells": [
  {
   "cell_type": "code",
   "execution_count": 1,
   "metadata": {
    "collapsed": true
   },
   "outputs": [],
   "source": [
    "import numpy as np\n",
    "import os, sys\n",
    "sys.path.append(os.pardir)\n",
    "from load_foot import Load_data, make_data\n",
    "import matplotlib.pyplot as plt\n",
    "import torch\n",
    "from torch.utils.data import DataLoader, TensorDataset\n",
    "from torch.autograd import Variable\n",
    "from mymodule.layers import LSTM, T_CNN\n",
    "from mymodule.utils import data_loader\n",
    "from tensorboardX import SummaryWriter"
   ]
  },
  {
   "cell_type": "code",
   "execution_count": 2,
   "metadata": {
    "collapsed": true
   },
   "outputs": [],
   "source": [
    "epochs = 100\n",
    "seq_len = 128\n",
    "batch_size = 4\n",
    "\n",
    "os.chdir('data')\n",
    "data = Load_data(train_mat='train_foot2.mat',\n",
    "                 test_mat='test_foot2.mat',\n",
    "                 train_label_mat='label_foot.mat',\n",
    "                 test_label_mat='label_foot.mat')\n",
    "train_x, train_t, test_x, test_t = data.get_data2d(seq_len)\n",
    "train_diff = np.zeros(train_x.shape)\n",
    "test_diff = np.zeros(test_x.shape)\n",
    "train_diff[:,1:seq_len,:] = np.diff(train_x, axis=1)\n",
    "test_diff[:,1:seq_len,:] = np.diff(test_x, axis=1)\n",
    "\n",
    "### (batch, seq, 10 = 5 + 5)\n",
    "train_ = np.c_[train_x, train_diff].reshape(-1, 1, 128, 10)\n",
    "test_ = np.c_[test_x, test_diff].reshape(-1, 1, 128, 10)\n",
    "\n",
    "train_ = torch.from_numpy(train_)\n",
    "test_ = torch.from_numpy(test_)\n",
    "\n",
    "train_loader = data_loader(train_, train_t, batch_size=batch_size, gpu=True)\n",
    "test_loader = data_loader(test_, test_t, batch_size=batch_size)\n",
    "\n",
    "os.chdir('..')"
   ]
  },
  {
   "cell_type": "code",
   "execution_count": 3,
   "metadata": {},
   "outputs": [
    {
     "name": "stdout",
     "output_type": "stream",
     "text": [
      "(14209, 1, 128, 10)\n",
      "(14209, 1, 128, 10)\n",
      "(14209,)\n",
      "(14209,)\n"
     ]
    }
   ],
   "source": [
    "print(train_.shape)\n",
    "print(test_.shape)\n",
    "print(train_t.shape)\n",
    "print(test_t.shape)"
   ]
  },
  {
   "cell_type": "code",
   "execution_count": 4,
   "metadata": {
    "collapsed": true
   },
   "outputs": [],
   "source": [
    "class CNN(torch.nn.Module):\n",
    "    def __init__(self):\n",
    "        super(CNN, self).__init__()\n",
    "#         self.cnn = torch.nn.ModuleList([torch.nn.Conv2d(1, 32, (4, 1), bias=False)])\n",
    "        \n",
    "        self.cnn = torch.nn.Conv2d(1,32,2)\n",
    "    \n",
    "    def forward(self, x):\n",
    "#         for l in enumerate(self.cnn):\n",
    "#             x = l(x)\n",
    "        x = self.cnn(x)\n",
    "        return x"
   ]
  },
  {
   "cell_type": "code",
   "execution_count": 5,
   "metadata": {
    "collapsed": true
   },
   "outputs": [],
   "source": [
    "model = CNN()"
   ]
  },
  {
   "cell_type": "code",
   "execution_count": 7,
   "metadata": {},
   "outputs": [
    {
     "ename": "RuntimeError",
     "evalue": "Variable data has to be a tensor, but got numpy.ndarray",
     "output_type": "error",
     "traceback": [
      "\u001b[0;31m---------------------------------------------------------------------------\u001b[0m",
      "\u001b[0;31mRuntimeError\u001b[0m                              Traceback (most recent call last)",
      "\u001b[0;32m<ipython-input-7-148c847cf535>\u001b[0m in \u001b[0;36m<module>\u001b[0;34m()\u001b[0m\n\u001b[0;32m----> 1\u001b[0;31m \u001b[0my\u001b[0m \u001b[0;34m=\u001b[0m \u001b[0mmodel\u001b[0m\u001b[0;34m(\u001b[0m\u001b[0mVariable\u001b[0m\u001b[0;34m(\u001b[0m\u001b[0mtrain_x\u001b[0m\u001b[0;34m)\u001b[0m\u001b[0;34m)\u001b[0m\u001b[0;34m\u001b[0m\u001b[0m\n\u001b[0m\u001b[1;32m      2\u001b[0m \u001b[0mprint\u001b[0m\u001b[0;34m(\u001b[0m\u001b[0my\u001b[0m\u001b[0;34m.\u001b[0m\u001b[0mshape\u001b[0m\u001b[0;34m)\u001b[0m\u001b[0;34m\u001b[0m\u001b[0m\n",
      "\u001b[0;31mRuntimeError\u001b[0m: Variable data has to be a tensor, but got numpy.ndarray"
     ]
    }
   ],
   "source": [
    "y = model(Variable(train_x))\n",
    "print(y.shape)"
   ]
  },
  {
   "cell_type": "code",
   "execution_count": null,
   "metadata": {
    "collapsed": true
   },
   "outputs": [],
   "source": []
  }
 ],
 "metadata": {
  "kernelspec": {
   "display_name": "Python 3",
   "language": "python",
   "name": "python3"
  },
  "language_info": {
   "codemirror_mode": {
    "name": "ipython",
    "version": 3
   },
   "file_extension": ".py",
   "mimetype": "text/x-python",
   "name": "python",
   "nbconvert_exporter": "python",
   "pygments_lexer": "ipython3",
   "version": "3.6.1"
  }
 },
 "nbformat": 4,
 "nbformat_minor": 2
}
